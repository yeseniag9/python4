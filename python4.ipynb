{
 "cells": [
  {
   "cell_type": "markdown",
   "metadata": {},
   "source": [
    "# Object-Oriented-Programming (OOP)"
   ]
  },
  {
   "cell_type": "markdown",
   "metadata": {},
   "source": [
    "## Tasks Today:\n",
    "\n",
    "   \n",
    "\n",
    "1) <b>Creating a Class (Initializing/Declaring)</b> <br>\n",
    "2) <b>Using a Class (Instantiating)</b> <br>\n",
    " &nbsp;&nbsp;&nbsp;&nbsp; a) Creating One Instance <br>\n",
    " &nbsp;&nbsp;&nbsp;&nbsp; b) Creating Multiple Instances <br>\n",
    " &nbsp;&nbsp;&nbsp;&nbsp; c) In-Class Exercise #1 - Create a Class 'Car' and instantiate three different makes of cars <br>\n",
    "3) <b>The \\__init\\__() Method</b> <br>\n",
    " &nbsp;&nbsp;&nbsp;&nbsp; a) The 'self' Attribute <br>\n",
    "4) <b>Class Attributes</b> <br>\n",
    " &nbsp;&nbsp;&nbsp;&nbsp; a) Initializing Attributes <br>\n",
    " &nbsp;&nbsp;&nbsp;&nbsp; b) Setting an Attribute Outside of the \\__init\\__() Method <br>\n",
    " &nbsp;&nbsp;&nbsp;&nbsp; c) Setting Defaults for Attributes <br>\n",
    " &nbsp;&nbsp;&nbsp;&nbsp; d) Accessing Class Attributes <br>\n",
    " &nbsp;&nbsp;&nbsp;&nbsp; e) Changing Class Attributes <br>\n",
    " &nbsp;&nbsp;&nbsp;&nbsp; f) In-Class Exercise #2 - Add a doors and seats attribute to your 'Car' class then print out two different instances with different doors and seats <br>\n",
    "5) <b>Class Methods</b> <br>\n",
    " &nbsp;&nbsp;&nbsp;&nbsp; a) Creating <br>\n",
    " &nbsp;&nbsp;&nbsp;&nbsp; b) Calling <br>\n",
    " &nbsp;&nbsp;&nbsp;&nbsp; c) Modifying an Attribute's Value Through a Method <br>\n",
    " &nbsp;&nbsp;&nbsp;&nbsp; d) Incrementing an Attribute's Value Through a Method <br>\n",
    " &nbsp;&nbsp;&nbsp;&nbsp; e) In-Class Exercise #3 - Add a method that takes in three parameters of year, doors and seats and prints out a formatted print statement with make, model, year, seats, and doors <br>\n",
    "6) <b>Inheritance</b> <br>\n",
    " &nbsp;&nbsp;&nbsp;&nbsp; a) Syntax for Inheriting from a Parent Class <br>\n",
    " &nbsp;&nbsp;&nbsp;&nbsp; b) The \\__init\\__() Method for a Child Class (super()) <br>\n",
    " &nbsp;&nbsp;&nbsp;&nbsp; c) Defining Attributes and Methods for the Child Class <br>\n",
    " &nbsp;&nbsp;&nbsp;&nbsp; d) Method Overriding <br>\n",
    "7) <b>Classes as Attributes</b> <br>\n",
    "8) <b>Exercises</b> <br>\n",
    " &nbsp;&nbsp;&nbsp;&nbsp; a) Exercise #1 - Turn the shopping cart program from yesterday into an object-oriented program <br>"
   ]
  },
  {
   "cell_type": "markdown",
   "metadata": {},
   "source": [
    "## Creating a Class (Initializing/Declaring)\n",
    "<p>When creating a class, function, or even a variable you are initializing that object. Initializing and Declaring occur at the same time in Python, whereas in lower level languages you have to declare an object before initializing it. This is the first step in the process of using a class.</p>"
   ]
  },
  {
   "cell_type": "code",
   "execution_count": 2,
   "metadata": {},
   "outputs": [
    {
     "data": {
      "text/plain": [
       "<bound method Car.headlights of <__main__.Car object at 0x7ff11db5b4c0>>"
      ]
     },
     "execution_count": 2,
     "metadata": {},
     "output_type": "execute_result"
    }
   ],
   "source": [
    "class Car():\n",
    "    wheels = 4\n",
    "    color = 'blue'\n",
    "    \n",
    "    def headlights():\n",
    "        print('Turn them on for safety, do not crash into a moose')\n",
    "\n",
    "volkswagen = Car()\n",
    "volkswagen.headlights"
   ]
  },
  {
   "cell_type": "markdown",
   "metadata": {},
   "source": [
    "## Using a Class (Instantiating)\n",
    "<p>The process of creating a class is called <i>Instantiating</i>. Each time you create a variable of that type of class, it is referred to as an <i>Instance</i> of that class. This is the second step in the process of using a class.</p>"
   ]
  },
  {
   "cell_type": "markdown",
   "metadata": {},
   "source": [
    "##### Creating One Instance"
   ]
  },
  {
   "cell_type": "code",
   "execution_count": 5,
   "metadata": {},
   "outputs": [
    {
     "name": "stdout",
     "output_type": "stream",
     "text": [
      "blue\n"
     ]
    }
   ],
   "source": [
    "ford = Car()\n",
    "\n",
    "print(ford.color)"
   ]
  },
  {
   "cell_type": "markdown",
   "metadata": {},
   "source": [
    "##### Creating Multiple Instances"
   ]
  },
  {
   "cell_type": "code",
   "execution_count": 6,
   "metadata": {},
   "outputs": [
    {
     "name": "stdout",
     "output_type": "stream",
     "text": [
      "<class 'str'>\n"
     ]
    }
   ],
   "source": [
    "chevrolet = Car()\n",
    "honda = Car()\n",
    "porsche = Car()\n",
    "\n",
    "print(type(porsche.color))"
   ]
  },
  {
   "cell_type": "markdown",
   "metadata": {},
   "source": [
    "##### In-Class Exercise #1 - Create a Class 'Car' and Instantiate three different makes of cars"
   ]
  },
  {
   "cell_type": "code",
   "execution_count": 8,
   "metadata": {},
   "outputs": [
    {
     "name": "stdout",
     "output_type": "stream",
     "text": [
      "2\n",
      "red\n",
      "4\n"
     ]
    }
   ],
   "source": [
    "class Car():\n",
    "    doors = 2\n",
    "    color = 'red'\n",
    "    wheels = 4\n",
    "\n",
    "audi = Car()\n",
    "bmw = Car()\n",
    "tesla = Car()\n",
    "\n",
    "print(audi.doors)\n",
    "print(bmw.color)\n",
    "print(tesla.wheels)"
   ]
  },
  {
   "cell_type": "markdown",
   "metadata": {},
   "source": [
    "## The \\__init\\__() Method <br>\n",
    "<p>This method is used in almost every created class, and called only once upon the creation of the class instance. This method will initialize all variables needed for the object.</p>"
   ]
  },
  {
   "cell_type": "code",
   "execution_count": 3,
   "metadata": {},
   "outputs": [
    {
     "name": "stdout",
     "output_type": "stream",
     "text": [
      "black\n",
      "blue\n",
      "4\n",
      "6\n"
     ]
    }
   ],
   "source": [
    "class Car():\n",
    "    engine = '4.7L' #Gobal within class - any method inside the class can call upon this variable\n",
    "    \n",
    "    def __init__(self, color, wheels):\n",
    "        self.color = color\n",
    "        self.wheels = wheels\n",
    "    \n",
    "mazda = Car('black', 4)\n",
    "subaru = Car('blue', 6)\n",
    "\n",
    "print(mazda.color)\n",
    "print(subaru.color)\n",
    "print(mazda.wheels)\n",
    "print(subaru.wheels)"
   ]
  },
  {
   "cell_type": "markdown",
   "metadata": {},
   "source": [
    "##### The 'self' Attribute <br>\n",
    "<p>This attribute is required to keep track of specific instance's attributes. Without the self attribute, the program would not know how to reference or keep track of an instance's attributes.</p>"
   ]
  },
  {
   "cell_type": "code",
   "execution_count": null,
   "metadata": {},
   "outputs": [],
   "source": [
    "#see above"
   ]
  },
  {
   "cell_type": "code",
   "execution_count": 36,
   "metadata": {},
   "outputs": [
    {
     "name": "stdout",
     "output_type": "stream",
     "text": [
      "no\n"
     ]
    },
    {
     "data": {
      "text/plain": [
       "'why on earth would you not want a rock climbing wall in your house'"
      ]
     },
     "execution_count": 36,
     "metadata": {},
     "output_type": "execute_result"
    }
   ],
   "source": [
    "class House():\n",
    "    \n",
    "    def __init__(self, dishes, wall):\n",
    "        self.dishes = dishes\n",
    "        self.wall = wall\n",
    "        \n",
    "    def washDishes(self):\n",
    "        if self.dishes.lower() == 'dirty':\n",
    "            print(self.wall)\n",
    "        \n",
    "    def rockClimbingWall(self):\n",
    "        if self.wall.lower() == 'yes':\n",
    "            return 'rock on, climber!'\n",
    "        else:\n",
    "            return 'why on earth would you not want a rock climbing wall in your house'\n",
    "        \n",
    "brandon_house = House ('dirty', 'no')\n",
    "\n",
    "brandon_house.washDishes()\n",
    "brandon_house.rockClimbingWall()"
   ]
  },
  {
   "cell_type": "markdown",
   "metadata": {},
   "source": [
    "## Class Attributes <br>\n",
    "<p>While variables are inside of a class, they are referred to as attributes and not variables. When someone says 'attribute' you know they're speaking about a class. Attributes can be initialized through the init method, or outside of it.</p>"
   ]
  },
  {
   "cell_type": "markdown",
   "metadata": {},
   "source": [
    "##### Initializing Attributes"
   ]
  },
  {
   "cell_type": "code",
   "execution_count": 13,
   "metadata": {},
   "outputs": [],
   "source": [
    "#see above\n",
    "\n",
    "class Toy():\n",
    "    kind = 'car' #This is called a constant\n",
    "    \n",
    "    def __init__(self, rooftop, horn, wheels):\n",
    "        self.rooftop = rooftop #These are our attributes\n",
    "        self.horn = horn\n",
    "        self.wheels = wheels\n",
    "        \n",
    "tonka_truck = Toy(1,1,4) #1 Rooftop, 1 horn, 4 wheels\n",
    "hotwheels_car = Toy(2,3,8) #2 rooftops, 3 horns, 8 wheels"
   ]
  },
  {
   "cell_type": "markdown",
   "metadata": {},
   "source": [
    "##### Accessing Class Attributes"
   ]
  },
  {
   "cell_type": "code",
   "execution_count": 15,
   "metadata": {
    "scrolled": true
   },
   "outputs": [
    {
     "data": {
      "text/plain": [
       "8"
      ]
     },
     "execution_count": 15,
     "metadata": {},
     "output_type": "execute_result"
    }
   ],
   "source": [
    "#see above\n",
    "\n",
    "tonka_truck.rooftop\n",
    "hotwheels_car.wheels"
   ]
  },
  {
   "cell_type": "markdown",
   "metadata": {},
   "source": [
    "##### Setting Defaults for Attributes"
   ]
  },
  {
   "cell_type": "code",
   "execution_count": 74,
   "metadata": {},
   "outputs": [
    {
     "data": {
      "text/plain": [
       "'Blue'"
      ]
     },
     "execution_count": 74,
     "metadata": {},
     "output_type": "execute_result"
    }
   ],
   "source": [
    "class Car():\n",
    "    engine = '4.7L'\n",
    "    \n",
    "    def __init__(self, wheels):\n",
    "        self.wheels = wheels\n",
    "        self.color = 'Blue'\n",
    "        \n",
    "honda=Car(4)\n",
    "honda.color"
   ]
  },
  {
   "cell_type": "markdown",
   "metadata": {},
   "source": [
    "##### Changing Class Attributes <br>\n",
    "<p>Keep in mind there are global class attributes and then there are attributes only available to each class instance which won't effect other classes.</p>"
   ]
  },
  {
   "cell_type": "code",
   "execution_count": 19,
   "metadata": {},
   "outputs": [
    {
     "name": "stdout",
     "output_type": "stream",
     "text": [
      "Before change: Blue\n",
      "\n",
      "After Change: White\n",
      "Blue\n"
     ]
    }
   ],
   "source": [
    "jeep = Car(8)\n",
    "\n",
    "print(f'Before change: {jeep.color}')\n",
    "\n",
    "jeep.color = 'White'\n",
    "\n",
    "print(f'\\nAfter Change: {jeep.color}')\n",
    "print(honda.color)"
   ]
  },
  {
   "cell_type": "markdown",
   "metadata": {},
   "source": [
    "##### In-Class Exercise #2 - Add a doors and seats attribute to your 'Car' class then print out two different instances with different doors and seats"
   ]
  },
  {
   "cell_type": "code",
   "execution_count": 90,
   "metadata": {},
   "outputs": [
    {
     "name": "stdout",
     "output_type": "stream",
     "text": [
      "This audi has 2 doors and 2 seats.\n",
      "This bmw has 4 doors and 4 seats.\n"
     ]
    }
   ],
   "source": [
    "class Car():\n",
    "    \n",
    "    def __init__(self, doors, seats = 4):\n",
    "        self.doors = doors\n",
    "        self.seats = seats\n",
    "        \n",
    "audi = Car(2,2)\n",
    "bmw = Car(4)\n",
    "\n",
    "print(f'This audi has {audi.doors} doors and {audi.seats} seats.')\n",
    "print(f'This bmw has {bmw.doors} doors and {bmw.seats} seats.')"
   ]
  },
  {
   "cell_type": "markdown",
   "metadata": {},
   "source": [
    "## Class Methods <br>\n",
    "<p>While inside of a class, functions are referred to as 'methods'. If you hear someone mention methods, they're speaking about classes. Methods are essentially functions, but only callable on the instances of a class.</p>"
   ]
  },
  {
   "cell_type": "markdown",
   "metadata": {},
   "source": [
    "##### Creating"
   ]
  },
  {
   "cell_type": "code",
   "execution_count": 1,
   "metadata": {},
   "outputs": [],
   "source": [
    "class ShoppingBag():\n",
    "    '''\n",
    "        The ShoppingBag class will have handles, capacity,\n",
    "        and items to place inside.\n",
    "        \n",
    "        Attributes for the class:\n",
    "        - handles: expected to be an integer\n",
    "        - capacity: expected to be a string OR an integer\n",
    "        - items: expected to be a list\n",
    "    '''\n",
    "    \n",
    "    def __init__(self, handles, capacity, items):\n",
    "        self.handles = handles\n",
    "        self.capacity = capacity\n",
    "        self.items = items\n",
    "        \n",
    "    #Write a method that shows the items in our ShoppingBag /this is our items list\n",
    "    def showShoppingBag(self):\n",
    "        print(\"You have items in your bag!\")\n",
    "        for item in self.items:\n",
    "            print(item)\n",
    "                \n",
    "    #Show the capacity of ShoppingBag - how much room is left\n",
    "    def showCapacity(self):\n",
    "        print(f'Your capacity is: {self.capacity}')\n",
    "            \n",
    "    #Add item(s) to the items list for the ShoppingBag\n",
    "    def addToShoppingBag(self):\n",
    "        products = input('What would you like to add? ')\n",
    "        self.items.append(products)\n",
    "            \n",
    "    #Change the capacity of the ShoppingBag\n",
    "    def changeBagCapacity(self, capacity):\n",
    "        self.capacity = capacity \n",
    "            \n",
    "    #Increase the capacity of the ShoppingBag by a default amount that we set to 10\n",
    "    def increaseCapacity(self, changed_capacity = 10):\n",
    "        if self.capacity == isinstance(self.capacity, str):\n",
    "            print(\"We can't add that here\")\n",
    "        else:\n",
    "            self.capacity += changed_capacity              "
   ]
  },
  {
   "cell_type": "markdown",
   "metadata": {},
   "source": [
    "##### Calling"
   ]
  },
  {
   "cell_type": "code",
   "execution_count": 4,
   "metadata": {},
   "outputs": [
    {
     "name": "stdout",
     "output_type": "stream",
     "text": [
      "What do you want to do? add/show/quit add\n",
      "What would you like to add? grapes\n",
      "What do you want to do? add/show/quit add\n",
      "What would you like to add? chips\n",
      "What do you want to do? add/show/quit show\n",
      "You have items in your bag!\n",
      "grapes\n",
      "chips\n",
      "What do you want to do? add/show/quit quit\n",
      "You have items in your bag!\n",
      "grapes\n",
      "chips\n",
      "Thanks for shopping\n"
     ]
    }
   ],
   "source": [
    "#See Above\n",
    "#So far, we created the idea of the shopping bag; now we will actually instantiate and MAKE one, and use it!\n",
    "wholeFoods_bag = ShoppingBag(2,10,[])\n",
    "\n",
    "#Create a function to run the ShoppingBag methods on our wholeFoods_bag instance\n",
    "def run():\n",
    "    while True:\n",
    "        response = input('What do you want to do? add/show/quit ')\n",
    "        \n",
    "        if response.lower() == 'quit':\n",
    "            wholeFoods_bag.showShoppingBag()\n",
    "            print('Thanks for shopping')\n",
    "            break\n",
    "        elif response.lower() == 'add':\n",
    "            wholeFoods_bag.addToShoppingBag()\n",
    "        elif response.lower() == 'show':\n",
    "            wholeFoods_bag.showShoppingBag()\n",
    "        else:\n",
    "            print('Try another command')\n",
    "            \n",
    "run()"
   ]
  },
  {
   "cell_type": "markdown",
   "metadata": {},
   "source": [
    "##### Modifying an Attribute's Value Through a Method"
   ]
  },
  {
   "cell_type": "code",
   "execution_count": 48,
   "metadata": {},
   "outputs": [
    {
     "name": "stdout",
     "output_type": "stream",
     "text": [
      "Your capacity is: 10\n",
      "Capacity AFTER the change...\n",
      "Your capacity is: 40\n"
     ]
    }
   ],
   "source": [
    "#Show the capacity\n",
    "wholeFoods_bag.showCapacity()\n",
    "print('Capacity AFTER the change...')\n",
    "\n",
    "wholeFoods_bag.changeBagCapacity(40)\n",
    "wholeFoods_bag.showCapacity()"
   ]
  },
  {
   "cell_type": "markdown",
   "metadata": {},
   "source": [
    "##### Incrementing an Attribute's Value Through a Method"
   ]
  },
  {
   "cell_type": "code",
   "execution_count": 49,
   "metadata": {},
   "outputs": [
    {
     "name": "stdout",
     "output_type": "stream",
     "text": [
      "Your capacity is: 40\n",
      "After increase: \n",
      "Your capacity is: 50\n"
     ]
    }
   ],
   "source": [
    "wholeFoods_bag.showCapacity()\n",
    "print('After increase: ')\n",
    "\n",
    "wholeFoods_bag.increaseCapacity()\n",
    "wholeFoods_bag.showCapacity()"
   ]
  },
  {
   "cell_type": "markdown",
   "metadata": {},
   "source": [
    "##### In-Class Exercise #3 - Add a method that takes in three parameters of year, doors and seats and prints out a formatted print statement with make, model, year, seats, and doors"
   ]
  },
  {
   "cell_type": "code",
   "execution_count": 93,
   "metadata": {},
   "outputs": [
    {
     "name": "stdout",
     "output_type": "stream",
     "text": [
      "This car is from 2019 and is a Ford Explorer and has 4 doors and 5 seats\n"
     ]
    }
   ],
   "source": [
    "#Output: This car is from 2019 and is a Ford Explorer and has 4 doors and 5 seats\n",
    "\n",
    "class Car():\n",
    "    \n",
    "    def __init__(self, make = \"Ford\", model = \"Explorer\", year = 2019, doors = 4, seats = 5):\n",
    "        self.make = make\n",
    "        self.model = model\n",
    "        self.year = year\n",
    "        self.doors = doors\n",
    "        self.seats = seats\n",
    "\n",
    "ford = Car()\n",
    "\n",
    "print(f'This car is from {ford.year} and is a {ford.make} {ford.model} and has {ford.doors} doors and {ford.seats} seats')"
   ]
  },
  {
   "cell_type": "markdown",
   "metadata": {},
   "source": [
    "## Inheritance <br>\n",
    "<p>You can create a child-parent relationship between two classes by using inheritance. What this allows you to do is have overriding methods, but also inherit traits from the parent class. Think of it as an actual parent and child, the child will inherit the parent's genes, as will the classes in OOP</p>"
   ]
  },
  {
   "cell_type": "markdown",
   "metadata": {},
   "source": [
    "##### Syntax for Inheriting from a Parent Class"
   ]
  },
  {
   "cell_type": "code",
   "execution_count": 64,
   "metadata": {},
   "outputs": [
    {
     "name": "stdout",
     "output_type": "stream",
     "text": [
      "Bark\n",
      "Make some generic sound\n",
      "None\n",
      "9.8\n",
      "15\n"
     ]
    }
   ],
   "source": [
    "#Create a parent class and call it Animal\n",
    "class Animal():\n",
    "    acceleration = 9.8\n",
    "    \n",
    "    def __init__(self, name, species, legs = 4):\n",
    "        self.name = name\n",
    "        self.species = species\n",
    "        self.legs = legs\n",
    "        \n",
    "    #Generic Parent Method - This is not overriding anything\n",
    "    def makeSound(self):\n",
    "        print('Make some generic sound')\n",
    "        \n",
    "#Now we are making our child class... Dog\n",
    "class Dog(Animal):\n",
    "    speed = 15\n",
    "    \n",
    "    def printInfo(self):\n",
    "        print(f\"The Dog has {self.speed} mph in speed and {self.acceleration}\")\n",
    "              \n",
    "#Creation of our Grand-Child Class -- Mutt\n",
    "class Mutt(Dog):\n",
    "    color = \"Tan\"\n",
    "    \n",
    "    #Override the ANIMAL class - using the Dog class to overwrite the __init__ from Animal\n",
    "    def __init__(self, name, species, eye_color, legs = 4):\n",
    "        Dog.__init__(self,name,species,legs)\n",
    "        self.eye_color = eye_color\n",
    "              \n",
    "    #Override the makeSound method(which is coming from... ANIMAL)\n",
    "    def makeSound(self):\n",
    "        noise = 'Bark'\n",
    "        return noise\n",
    "              \n",
    "lassie = Dog('Lassie', 'Dog')\n",
    "basic_animal = Animal('Generic Animal Name', 'Generic Animal Species')\n",
    "buster = Mutt('Buster', 'Mut', 'Brown')\n",
    "\n",
    "print(buster.makeSound())\n",
    "print(lassie.makeSound())\n",
    "print(buster.acceleration)\n",
    "print(buster.speed)"
   ]
  },
  {
   "cell_type": "markdown",
   "metadata": {},
   "source": [
    "##### The \\__init\\__() Method for a Child Class - super()"
   ]
  },
  {
   "cell_type": "code",
   "execution_count": 65,
   "metadata": {
    "scrolled": true
   },
   "outputs": [
    {
     "name": "stdout",
     "output_type": "stream",
     "text": [
      "Bark\n",
      "Make some generic sound\n",
      "None\n",
      "9.8\n",
      "15\n"
     ]
    }
   ],
   "source": [
    "class Puppy(Dog):\n",
    "    color = 'black and brown'\n",
    "    \n",
    "    #Override the Animal class __init__ (via Dog class)\n",
    "    def __init__(self, name, species, eye_color, legs = 4):\n",
    "        super().__init__(name,species,legs)\n",
    "        self.eye_color = eye_color\n",
    "        \n",
    "    #Override the make Sound method \n",
    "    def makeSound(self):\n",
    "        noise = 'Bark'\n",
    "        return noise\n",
    "    \n",
    "lassie = Dog('Lassie', 'Dog')\n",
    "basic_animal = Animal('Generic Animal Name', 'Generic Animal Species')\n",
    "buster = Mutt('Buster', 'Mut', 'Brown')\n",
    "\n",
    "print(buster.makeSound())\n",
    "print(lassie.makeSound())\n",
    "print(buster.acceleration)\n",
    "print(buster.speed)"
   ]
  },
  {
   "cell_type": "markdown",
   "metadata": {},
   "source": [
    "##### Defining Attributes and Methods for the Child Class"
   ]
  },
  {
   "cell_type": "code",
   "execution_count": null,
   "metadata": {},
   "outputs": [],
   "source": [
    "#See Above"
   ]
  },
  {
   "cell_type": "markdown",
   "metadata": {},
   "source": [
    "##### Method Overriding"
   ]
  },
  {
   "cell_type": "code",
   "execution_count": null,
   "metadata": {},
   "outputs": [],
   "source": [
    "#See Above"
   ]
  },
  {
   "cell_type": "markdown",
   "metadata": {},
   "source": [
    "## Classes as Attributes <br>\n",
    "<p>Classes can also be used as attributes within another class. This is useful in situations where you need to keep variables locally stored, instead of globally stored.</p>"
   ]
  },
  {
   "cell_type": "code",
   "execution_count": 69,
   "metadata": {},
   "outputs": [
    {
     "name": "stdout",
     "output_type": "stream",
     "text": [
      "20\n"
     ]
    },
    {
     "data": {
      "text/plain": [
       "'2019 Tesla Model X 20'"
      ]
     },
     "execution_count": 69,
     "metadata": {},
     "output_type": "execute_result"
    }
   ],
   "source": [
    "class Battery():\n",
    "    volts = 7.8\n",
    "    \n",
    "    def __init__(self, cells):\n",
    "        self.cells = cells\n",
    "        \n",
    "class Car():\n",
    "    def __init__(self, year, make, model, battery):\n",
    "        self.year = year\n",
    "        self.make = make\n",
    "        self.model = model\n",
    "        self.battery = battery\n",
    "        \n",
    "    def printInfo(self):\n",
    "        return (f'{self.year} {self.make} {self.model} {self.battery.cells}')\n",
    "\n",
    "my_battery = Battery(20)\n",
    "                \n",
    "tesla = Car(2019, 'Tesla', 'Model X', my_battery)\n",
    "\n",
    "print(tesla.battery.cells)\n",
    "tesla.printInfo()"
   ]
  },
  {
   "cell_type": "markdown",
   "metadata": {},
   "source": [
    "# Exercises"
   ]
  },
  {
   "cell_type": "markdown",
   "metadata": {},
   "source": [
    "### Exercise 1 - Turn the shopping cart program from yesterday into an object-oriented program\n",
    "\n",
    "The comments in the cell below are there as a guide for thinking about the problem. However, if you feel a different way is best for you and your own thought process, please do what feels best for you by all means."
   ]
  },
  {
   "cell_type": "code",
   "execution_count": 6,
   "metadata": {},
   "outputs": [],
   "source": [
    "class Cart():\n",
    "    \n",
    "    def __init__(self, items):\n",
    "        self.items = items\n",
    "        \n",
    "    def showCart(self):\n",
    "        print(\"The following items are in your cart: \")\n",
    "        for item in self.items:\n",
    "            print(item)\n",
    "            \n",
    "    def addToCart(self):\n",
    "        add_product = input(\"What would you like to add? \")\n",
    "        self.items.append(add_product)\n",
    "    \n",
    "    def removeFromCart(self):\n",
    "        removed_product = input(\"What would you like to delete? \")\n",
    "        self.items.remove(removed_product)"
   ]
  },
  {
   "cell_type": "code",
   "execution_count": 8,
   "metadata": {},
   "outputs": [
    {
     "name": "stdout",
     "output_type": "stream",
     "text": [
      "What do you want to do? add/remove/show/quit add\n",
      "What would you like to add? grapes\n",
      "What do you want to do? add/remove/show/quit add\n",
      "What would you like to add? chips\n",
      "What do you want to do? add/remove/show/quit add\n",
      "What would you like to add? juice\n",
      "What do you want to do? add/remove/show/quit show\n",
      "The following items are in your cart: \n",
      "grapes\n",
      "chips\n",
      "juice\n",
      "What do you want to do? add/remove/show/quit quit\n",
      "Thanks for shopping!\n"
     ]
    }
   ],
   "source": [
    "#from IPython.display import clear_output\n",
    "\n",
    "shopping_bag = Cart([])\n",
    "\n",
    "def run_bag():\n",
    "    while True:\n",
    "        user_response = input('What do you want to do? add/remove/show/quit ')\n",
    "        \n",
    "        #clear_output()\n",
    "        \n",
    "        if user_response.lower() == 'quit':\n",
    "            print(\"Thanks for shopping!\")\n",
    "            break\n",
    "        elif user_response.lower() == 'show':\n",
    "            shopping_bag.showCart()\n",
    "        elif user_response.lower() == 'add':\n",
    "            shopping_bag.addToCart()\n",
    "        elif user_response.lower() == 'remove':\n",
    "            shopping_bag.removeFromCart()\n",
    "        else:\n",
    "            print(\"Enter something else, please.\")      \n",
    "            \n",
    "run_bag()"
   ]
  },
  {
   "cell_type": "markdown",
   "metadata": {},
   "source": [
    "### Exercise 2 - Write a Python class which has two methods get_String and print_String. get_String accept a string from the user and print_String print the string in upper case"
   ]
  },
  {
   "cell_type": "code",
   "execution_count": 17,
   "metadata": {},
   "outputs": [
    {
     "name": "stdout",
     "output_type": "stream",
     "text": [
      "juice\n",
      "JUICE\n"
     ]
    }
   ],
   "source": [
    "class String():\n",
    "    def __init__(self):\n",
    "        self.string = \" \"\n",
    "\n",
    "    def get_String(self):\n",
    "        self.string = input()\n",
    "\n",
    "    def print_String(self):\n",
    "        print(self.string.upper())\n",
    "\n",
    "string = String()\n",
    "string.get_String()\n",
    "string.print_String()"
   ]
  }
 ],
 "metadata": {
  "kernelspec": {
   "display_name": "Python 3 (ipykernel)",
   "language": "python",
   "name": "python3"
  },
  "language_info": {
   "codemirror_mode": {
    "name": "ipython",
    "version": 3
   },
   "file_extension": ".py",
   "mimetype": "text/x-python",
   "name": "python",
   "nbconvert_exporter": "python",
   "pygments_lexer": "ipython3",
   "version": "3.9.12"
  }
 },
 "nbformat": 4,
 "nbformat_minor": 2
}
